{
 "cells": [
  {
   "cell_type": "markdown",
   "id": "arctic-stocks",
   "metadata": {},
   "source": [
    "### Задание №1\n",
    "Массив A состоит из целых положительных чисел длин отрезков. Составьте из трех отрезков такой треугольник, чтобы его периметр был максимально возможным. Если невозможно составить треугольник с положительной площадью функция возвращает 0."
   ]
  },
  {
   "cell_type": "code",
   "execution_count": 3,
   "id": "caring-truck",
   "metadata": {},
   "outputs": [
    {
     "name": "stdout",
     "output_type": "stream",
     "text": [
      "[92, 86, 79, 72, 68, 62, 61, 53, 40, 20, 2]\n",
      "92 86 79\n",
      "257\n"
     ]
    }
   ],
   "source": [
    "import random\n",
    "arr=[random.randint(1, 100) for i in range(11)]\n",
    "#arr=[15,10,4,3,2]\n",
    "arr.sort(reverse=True)\n",
    "print(arr)\n",
    "p=0\n",
    "for i in range(2,len(arr)-1):\n",
    "    if arr[i-2]+arr[i-1]>arr[i] and arr[i-2]+arr[i]>arr[i-1] and arr[i]+arr[i-1]>arr[i-2]:\n",
    "        p=arr[i-2]+arr[i-1]+arr[i]\n",
    "        print(arr[i-2], arr[i-1], arr[i])\n",
    "        break\n",
    "    else:\n",
    "        arr=arr[i-1:]\n",
    "print(p)"
   ]
  },
  {
   "cell_type": "markdown",
   "id": "maritime-conversation",
   "metadata": {},
   "source": [
    "### Задание №2\n",
    "Дан массив неотрицательных целых чисел nums. Расположите их в таком порядке, чтобы вместе они образовали максимально возможное число. Замечание: Результат может быть очень большим числом, поэтому представьте его как string, а не integer."
   ]
  },
  {
   "cell_type": "code",
   "execution_count": 4,
   "id": "alert-charm",
   "metadata": {},
   "outputs": [
    {
     "name": "stdout",
     "output_type": "stream",
     "text": [
      "[21, 14, 3, 8, 20, 57, 19, 29, 98, 5, 27]\n",
      "9885753292721201914\n"
     ]
    }
   ],
   "source": [
    "import random\n",
    "\n",
    "def numer(num):\n",
    "    return str(num) + str(num)[0] * (len(str(max)) - len(str(num)))\n",
    "\n",
    "nums = [random.randint(1, 100) for i in range(11)]\n",
    "print(nums)\n",
    "max = max(nums)\n",
    "if max == 0:\n",
    "    print(0)\n",
    "else:\n",
    "    nums.sort(reverse=True, key=numer)\n",
    "    print(''.join(str(x) for x in nums))\n"
   ]
  },
  {
   "cell_type": "markdown",
   "id": "catholic-roots",
   "metadata": {},
   "source": [
    "### Задание №3\n",
    "Дана матрица mat размером m * n, значения целочисленные. Напишите функцию, сортирующую каждую диагональ матрицы по возрастанию и возвращающую получившуюся матрицу."
   ]
  },
  {
   "cell_type": "code",
   "execution_count": 5,
   "id": "cleared-anniversary",
   "metadata": {},
   "outputs": [
    {
     "name": "stdout",
     "output_type": "stream",
     "text": [
      "[26, 45, 79, 16, 98, 51]\n",
      "[31, 60, 44, 61, 72, 65]\n",
      "[15, 86, 99, 17, 78, 36]\n",
      "[67, 89, 40, 86, 32, 91]\n",
      "[32, 20, 64, 47, 32, 46]\n",
      "[86, 47, 58, 39, 55, 50]\n",
      "[61, 54, 23, 42, 77, 70]\n",
      "[31, 15, 83, 20, 58, 98]\n",
      "[49, 43, 48, 99, 86, 43]\n",
      "\n",
      "[26, 45, 79, 86, 99, 86]\n",
      "[31, 60, 67, 98, 72, 86]\n",
      "[15, 44, 89, 51, 78, 58]\n",
      "[16, 61, 40, 65, 54, 91]\n",
      "[32, 20, 64, 47, 49, 83]\n",
      "[17, 61, 36, 39, 55, 77]\n",
      "[47, 32, 32, 46, 50, 99]\n",
      "[31, 23, 43, 48, 70, 98]\n",
      "[15, 42, 20, 58, 86, 43]\n"
     ]
    }
   ],
   "source": [
    "import random\n",
    "\n",
    "m = 6\n",
    "n = 9\n",
    "mas = [[random.randint(10, 99) for j in range(m)] for i in range(n)]\n",
    "for i in range(n):\n",
    "    print(mas[i])\n",
    "arr = [[] for i in range(m + n - 1)]\n",
    "\n",
    "\n",
    "for i in range(n):\n",
    "    for j in range(m):\n",
    "        arr[i + j].append(mas[i][j])\n",
    "        if j == 0:\n",
    "            arr[i] = sorted(arr[i])\n",
    "        if j > 0 and i == n - 1:\n",
    "            arr[i + j] = sorted(arr[i + j])\n",
    "print()\n",
    "k = 0\n",
    "for i in range(n):\n",
    "    for j in range(m):\n",
    "        if i + j > m - 1:\n",
    "            k = i + j - m + 1\n",
    "        mas[i][j] = arr[i + j][len(arr[i + j]) - 1 - i + k]\n",
    "    k = 0\n",
    "    print(mas[i])"
   ]
  },
  {
   "cell_type": "code",
   "execution_count": null,
   "id": "271bd8ad-085a-4495-bdb5-177d55f980ea",
   "metadata": {},
   "outputs": [],
   "source": []
  }
 ],
 "metadata": {
  "kernelspec": {
   "display_name": "Python 3 (ipykernel)",
   "language": "python",
   "name": "python3"
  },
  "language_info": {
   "codemirror_mode": {
    "name": "ipython",
    "version": 3
   },
   "file_extension": ".py",
   "mimetype": "text/x-python",
   "name": "python",
   "nbconvert_exporter": "python",
   "pygments_lexer": "ipython3",
   "version": "3.10.0"
  }
 },
 "nbformat": 4,
 "nbformat_minor": 5
}
